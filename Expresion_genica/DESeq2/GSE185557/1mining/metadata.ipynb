{
 "cells": [
  {
   "cell_type": "code",
   "execution_count": 19,
   "id": "66eaae85",
   "metadata": {},
   "outputs": [],
   "source": [
    "import pandas as pd\n",
    "import re\n",
    "sources_path = '../0sources'\n",
    "clean_data_path = '../2clean_data'"
   ]
  },
  {
   "cell_type": "code",
   "execution_count": 20,
   "id": "90213913",
   "metadata": {},
   "outputs": [],
   "source": [
    "with open(f\"{sources_path}/GSE185557_family.soft\", \"r\") as f:\n",
    "    samples = f.read().split(\"^SAMPLE = \")"
   ]
  },
  {
   "cell_type": "code",
   "execution_count": 21,
   "id": "ee984bc8",
   "metadata": {},
   "outputs": [],
   "source": [
    "samples = samples[1:]"
   ]
  },
  {
   "cell_type": "code",
   "execution_count": 22,
   "id": "f940bae7",
   "metadata": {},
   "outputs": [],
   "source": [
    "from collections import defaultdict\n",
    "sample_meta = defaultdict(lambda x: [])"
   ]
  },
  {
   "cell_type": "code",
   "execution_count": 23,
   "id": "72b5ec92",
   "metadata": {},
   "outputs": [],
   "source": [
    "for sample in samples:\n",
    "    lines = sample.split(\"\\n\")\n",
    "    sample_meta[lines[0]] = lines[1:]"
   ]
  },
  {
   "cell_type": "code",
   "execution_count": 24,
   "id": "00014c70",
   "metadata": {},
   "outputs": [],
   "source": [
    "for key, vals in sample_meta.items():\n",
    "    new_val = []\n",
    "    for val in vals:\n",
    "        if \"!Sample_title\" in val or \"!Sample_characteristics_ch1 = \" in val:\n",
    "            new_val.append(val)\n",
    "    sample_meta[key] = new_val"
   ]
  },
  {
   "cell_type": "code",
   "execution_count": 25,
   "id": "ff1e558b",
   "metadata": {},
   "outputs": [
    {
     "data": {
      "text/plain": [
       "dict_keys(['GSM5618310', 'GSM5618311', 'GSM5618312', 'GSM5618313', 'GSM5618314', 'GSM5618315', 'GSM5618316', 'GSM5618317', 'GSM5618318', 'GSM5618319', 'GSM5618320', 'GSM5618321', 'GSM5618322', 'GSM5618323', 'GSM5618324', 'GSM5618325', 'GSM5618326', 'GSM5618327', 'GSM5618328', 'GSM5618329', 'GSM5618330', 'GSM5618331', 'GSM5618332', 'GSM5618333', 'GSM5618334', 'GSM5618335', 'GSM5618336', 'GSM5618337', 'GSM5618338', 'GSM5618339', 'GSM5618340', 'GSM5618341', 'GSM5618342', 'GSM5618343', 'GSM5618344', 'GSM5618345', 'GSM5618346', 'GSM5618347'])"
      ]
     },
     "execution_count": 25,
     "metadata": {},
     "output_type": "execute_result"
    }
   ],
   "source": [
    "sample_meta.keys()"
   ]
  },
  {
   "cell_type": "code",
   "execution_count": 26,
   "id": "54c350fc",
   "metadata": {},
   "outputs": [
    {
     "data": {
      "text/plain": [
       "['!Sample_title = MB-C-1',\n",
       " '!Sample_characteristics_ch1 = group: Control',\n",
       " '!Sample_characteristics_ch1 = age: 37',\n",
       " '!Sample_characteristics_ch1 = bmi: 30.3',\n",
       " '!Sample_characteristics_ch1 = nulliparous: 0',\n",
       " '!Sample_characteristics_ch1 = deliveryroute: Vaginal delivery',\n",
       " '!Sample_characteristics_ch1 = labor: Yes']"
      ]
     },
     "execution_count": 26,
     "metadata": {},
     "output_type": "execute_result"
    }
   ],
   "source": [
    "sample_meta['GSM5618310']"
   ]
  },
  {
   "cell_type": "code",
   "execution_count": 27,
   "id": "26ed9f99",
   "metadata": {},
   "outputs": [
    {
     "data": {
      "text/plain": [
       "['', 'group: Control']"
      ]
     },
     "execution_count": 27,
     "metadata": {},
     "output_type": "execute_result"
    }
   ],
   "source": [
    "'!Sample_characteristics_ch1 = group: Control'.split(\"!Sample_characteristics_ch1 = \")"
   ]
  },
  {
   "cell_type": "code",
   "execution_count": 28,
   "id": "2d969e7a",
   "metadata": {},
   "outputs": [],
   "source": [
    "for key, vals in sample_meta.items():\n",
    "    new_val = []\n",
    "    for val in vals:\n",
    "        new_val.append(re.split(r'!.*= ', val)[-1])\n",
    "    sample_meta[key] = new_val"
   ]
  },
  {
   "cell_type": "code",
   "execution_count": 29,
   "id": "8ef5ec6f",
   "metadata": {},
   "outputs": [],
   "source": [
    "for key, vals in sample_meta.items():\n",
    "    new_val = []\n",
    "    for val in vals:\n",
    "        new_val.append(re.split(r'.*: ', val)[-1])\n",
    "    sample_meta[key] = new_val"
   ]
  },
  {
   "cell_type": "code",
   "execution_count": 30,
   "id": "b8745251",
   "metadata": {},
   "outputs": [],
   "source": [
    "for key, vals in sample_meta.items():\n",
    "    sample_meta[key][0] = sample_meta[key][0].replace('-', '.')\n",
    "    sample_meta[key][1] = sample_meta[key][1].replace('-', '.')"
   ]
  },
  {
   "cell_type": "code",
   "execution_count": 31,
   "id": "8028e95c",
   "metadata": {},
   "outputs": [],
   "source": [
    "MB_meta = []\n",
    "CB_meta = []\n",
    "for sample in sample_meta.values():\n",
    "    if \"MB\" in sample[0]:\n",
    "        MB_meta.append(sample)\n",
    "    if \"CB\" in sample[0]:\n",
    "        CB_meta.append(sample)"
   ]
  },
  {
   "cell_type": "code",
   "execution_count": 32,
   "id": "a77cdb81",
   "metadata": {},
   "outputs": [
    {
     "data": {
      "text/plain": [
       "dict_values([['MB.C.1', 'Control', '37', '30.3', '0', 'Vaginal delivery', 'Yes'], ['CB.C.1', 'Control', '37', '30.3', '0', 'Vaginal delivery', 'Yes'], ['MB.C.2', 'Control', '29', '34.2', '0', 'Vaginal delivery', 'Yes'], ['MB.C.3', 'Control', '32', '33.4', '0', 'Cesarean section', 'No'], ['MB.C.4', 'Control', '27', '34.5', '0', 'Vaginal delivery', 'Yes'], ['CB.C.4', 'Control', '27', '34.5', '0', 'Vaginal delivery', 'Yes'], ['MB.C.5', 'Control', '31', '53', '0', 'Cesarean section', 'No'], ['CB.C.5', 'Control', '31', '53', '0', 'Cesarean section', 'No'], ['MB.C.6', 'Control', '31', '37', '0', 'Vaginal delivery', 'Yes'], ['CB.C.6', 'Control', '31', '37', '0', 'Vaginal delivery', 'Yes'], ['MB.C.7', 'Control', '27', '46.1', '0', 'Cesarean section', 'Yes'], ['CB.C.7', 'Control', '27', '46.1', '0', 'Cesarean section', 'Yes'], ['MB.C.8', 'Control', '19', '29.9', '1', 'Vaginal delivery', 'Yes'], ['CB.C.8', 'Control', '19', '29.9', '1', 'Vaginal delivery', 'Yes'], ['MB.C.9', 'Control', '32', '34.9', '0', 'Cesarean section', 'No'], ['CB.C.9', 'Control', '32', '34.9', '0', 'Cesarean section', 'No'], ['MB.C.10', 'Control', '24', '32.6', '1', 'Cesarean section', 'Yes'], ['CB.C.10', 'Control', '24', '32.6', '1', 'Cesarean section', 'Yes'], ['MB.SA.1', 'COVID.19', '37', '49.2', '0', 'Vaginal delivery', 'Yes'], ['CB.SA.1', 'COVID.19', '37', '49.2', '0', 'Vaginal delivery', 'Yes'], ['MB.SA.2', 'COVID.19', '19', '27.1', '1', 'Vaginal delivery', 'Yes'], ['CB.SA.2', 'COVID.19', '19', '27.1', '1', 'Vaginal delivery', 'Yes'], ['MB.SA.3', 'COVID.19', '26', '38', '0', 'Vaginal delivery', 'No'], ['CB.SA.3', 'COVID.19', '26', '38', '0', 'Vaginal delivery', 'No'], ['MB.SA.4', 'COVID.19', '21', '30.7', '0', 'Cesarean section', 'Yes'], ['CB.SA.4', 'COVID.19', '21', '30.7', '0', 'Cesarean section', 'Yes'], ['MB.SA.5', 'COVID.19', '21', '27.3', '0', 'Vaginal delivery', 'Yes'], ['CB.SA.5', 'COVID.19', '21', '27.3', '0', 'Vaginal delivery', 'Yes'], ['MB.SA.6', 'COVID.19', '30', '28.8', '0', 'Cesarean section', 'No'], ['CB.SA.6', 'COVID.19', '30', '28.8', '0', 'Cesarean section', 'No'], ['MB.SA.7', 'COVID.19', '28', '29.2', '0', 'Vaginal delivery', 'Yes'], ['CB.SA.7', 'COVID.19', '28', '29.2', '0', 'Vaginal delivery', 'Yes'], ['MB.SA.8', 'COVID.19', '31', '30.2', '0', 'Cesarean section', 'No'], ['CB.SA.8', 'COVID.19', '31', '30.2', '0', 'Cesarean section', 'No'], ['MB.SA.9', 'COVID.19', '27', '31.1', '0', 'Vaginal delivery', 'Yes'], ['MB.SA.10', 'COVID.19', '34', '45.9', '0', 'NA', 'No'], ['MB.SA.11', 'COVID.19', '21', '43.5', '1', 'Vaginal delivery', 'Yes'], ['CB.SA.11', 'COVID.19', '21', '43.5', '1', 'Vaginal delivery', 'Yes']])"
      ]
     },
     "execution_count": 32,
     "metadata": {},
     "output_type": "execute_result"
    }
   ],
   "source": [
    "sample_meta.values()"
   ]
  },
  {
   "cell_type": "code",
   "execution_count": 33,
   "id": "7092bf12",
   "metadata": {},
   "outputs": [],
   "source": [
    "columns=[\"\", \"group\", \"age\", \"bmi\", \"nulliparous\", \"deliveryroute\", \"labor\"]\n",
    "MB_df = pd.DataFrame(MB_meta, columns=columns)\n",
    "CB_df = pd.DataFrame(CB_meta, columns=columns)"
   ]
  },
  {
   "cell_type": "code",
   "execution_count": 34,
   "id": "6482f38e",
   "metadata": {},
   "outputs": [],
   "source": [
    "MB_df.to_csv(f\"{clean_data_path}/colData.GSE185557.MB.csv\", index=False)\n",
    "CB_df.to_csv(f\"{clean_data_path}/colData.GSE185557.CB.csv\", index=False)"
   ]
  }
 ],
 "metadata": {
  "kernelspec": {
   "display_name": "Python 3 (ipykernel)",
   "language": "python",
   "name": "python3"
  },
  "language_info": {
   "codemirror_mode": {
    "name": "ipython",
    "version": 3
   },
   "file_extension": ".py",
   "mimetype": "text/x-python",
   "name": "python",
   "nbconvert_exporter": "python",
   "pygments_lexer": "ipython3",
   "version": "3.8.10"
  }
 },
 "nbformat": 4,
 "nbformat_minor": 5
}
