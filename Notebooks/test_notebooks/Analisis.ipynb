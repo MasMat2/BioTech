{
 "cells": [
  {
   "cell_type": "code",
   "execution_count": 1,
   "id": "ee292489",
   "metadata": {},
   "outputs": [],
   "source": [
    "import pandas as pd\n",
    "import statistics as sts\n",
    "from numpy import nan"
   ]
  },
  {
   "cell_type": "code",
   "execution_count": 12,
   "id": "ec5fc9b3",
   "metadata": {},
   "outputs": [],
   "source": [
    "import os, sys\n",
    "sys.path.append(os.path.dirname(os.getcwd()))\n",
    "from Funciones import fold_change"
   ]
  },
  {
   "cell_type": "code",
   "execution_count": 3,
   "id": "ba772274",
   "metadata": {},
   "outputs": [],
   "source": [
    "genes1 = pd.read_csv('../Genes/genes-metabolismo.csv', header = None)\n",
    "genes2 = pd.read_csv('../Genes/genes-metabolismo.csv', header = None)\n",
    "genes3 = pd.read_excel('../Genes/genes2Nuevo.xlsx',header = None)\n",
    "genes = set(genes1[0]).union(set(genes2[0])).union(genes3[0])"
   ]
  },
  {
   "cell_type": "code",
   "execution_count": 4,
   "id": "73c74ea7",
   "metadata": {},
   "outputs": [],
   "source": [
    "data0 = pd.read_excel('../data_sources/Old/GSE147507/GSE147507.xlsx')"
   ]
  },
  {
   "cell_type": "code",
   "execution_count": null,
   "id": "69c3480a",
   "metadata": {},
   "outputs": [],
   "source": [
    "for column in data0.columns: print(column)"
   ]
  },
  {
   "cell_type": "code",
   "execution_count": 5,
   "id": "7e764936",
   "metadata": {},
   "outputs": [],
   "source": [
    "data0.index = list(data0['Unnamed: 0'])\n",
    "data0.drop(columns = ['Unnamed: 0']+[_ for _ in list(data0.columns) if _[6] in ['3','4','8']],\n",
    "          inplace = True)\n",
    "data0.drop(columns = list(data0.loc[:,'Series9_NHBE_IAV_1':'Series9_NHBE_IAV_4'])+list(data0.loc[:,'Series9_NHBE_IAVdNS1_1':'Series9_NHBE_IAVdNS1_4']), \n",
    "          inplace = True )"
   ]
  },
  {
   "cell_type": "code",
   "execution_count": null,
   "id": "c3f580b3",
   "metadata": {
    "scrolled": true
   },
   "outputs": [],
   "source": [
    "for column in data0.columns: print(column)"
   ]
  },
  {
   "cell_type": "code",
   "execution_count": 6,
   "id": "06889d01",
   "metadata": {},
   "outputs": [],
   "source": [
    "data = data0.copy()"
   ]
  },
  {
   "cell_type": "code",
   "execution_count": 7,
   "id": "e3a53f53",
   "metadata": {},
   "outputs": [],
   "source": [
    "#NORMALIZACION\n",
    "\n",
    "for GAPDH,Columna in zip(list(data.loc['GAPDH']),list(data.columns)) :\n",
    "    data[Columna] = data[Columna]/GAPDH"
   ]
  },
  {
   "cell_type": "code",
   "execution_count": 8,
   "id": "4866f3c9",
   "metadata": {},
   "outputs": [],
   "source": [
    "series_ids = [\"1\", \"2\", \"5\", \"6\", \"7\", \"9\", \"15\", \"16\"]\n",
    "Series = {}"
   ]
  },
  {
   "cell_type": "code",
   "execution_count": 9,
   "id": "e568a14c",
   "metadata": {},
   "outputs": [],
   "source": [
    "for id in series_ids:\n",
    "    Series[id] = data.loc[:,list(S for S in list(data.columns) if f\"Series{id}_\" in S[:9])].copy()"
   ]
  },
  {
   "cell_type": "code",
   "execution_count": 11,
   "id": "86bf3a43",
   "metadata": {},
   "outputs": [],
   "source": [
    "Total_Gen = len(data.index)\n",
    "for key in Series.keys():\n",
    "    measurement_types = dict.fromkeys(map(lambda x: x[:-2], Series[key]))\n",
    "    for typ in measurement_types.keys():\n",
    "        Series[key][f\"Promedio_{typ}\"] = list(sts.mean(Series[key].filter(like=typ, axis=1).iloc[fila]) for fila in range (Total_Gen))\n",
    "        "
   ]
  },
  {
   "cell_type": "code",
   "execution_count": null,
   "id": "916519bb",
   "metadata": {},
   "outputs": [],
   "source": [
    "data"
   ]
  },
  {
   "cell_type": "code",
   "execution_count": null,
   "id": "bd7ab796",
   "metadata": {},
   "outputs": [],
   "source": [
    "#fold-change\n",
    "for key in Series.keys():\n",
    "    # Remove else False\n",
    "    measurement_types = [x for x in Series[key] if \"Promedio\" in x]\n",
    "    if key != \"15\":\n",
    "        mock = Series[key].filter(regex=\"^Promedio.*Mock$\").columns[0]\n",
    "    else:\n",
    "        mock = Series[key].filter(regex=\"Promedio_Series15_HealthyLungBiopsy\").columns[0]\n",
    "    measurement_types.remove(mock)\n",
    "\n",
    "    if len(measurement_types) > 1:\n",
    "        for typ in measurement_types:\n",
    "            name = typ.split(f\"_Series{key}_\")[1].replace(\"_\", \" \")\n",
    "            Series[key][f\"fold-change Series{key} {name}\"] = fold_change(Series[key][mock], Series[key][typ])\n",
    "    else:\n",
    "        typ = measurement_types[0]\n",
    "        Series[key][f\"fold-change Series{key}\"] = fold_change(Series[key][mock], Series[key][typ])\n"
   ]
  },
  {
   "cell_type": "code",
   "execution_count": null,
   "id": "53980c11",
   "metadata": {},
   "outputs": [],
   "source": [
    "Series[\"9\"]"
   ]
  },
  {
   "cell_type": "code",
   "execution_count": null,
   "id": "939fcded",
   "metadata": {},
   "outputs": [],
   "source": [
    "#CONJUNTO TOTAL\n",
    "for key in Series.keys():\n",
    "    data = pd.concat([data, Series[key].filter(like=\"Promedio_Series\", axis=1)], axis=1)\n",
    "    data = pd.concat([data, Series[key].filter(like=\"fold-change\", axis=1)], axis=1)\n"
   ]
  },
  {
   "cell_type": "code",
   "execution_count": null,
   "id": "dd8341ec",
   "metadata": {},
   "outputs": [],
   "source": [
    "#DF fold-change\n",
    "fold_change_data = data.filter(like='fold-change')"
   ]
  },
  {
   "cell_type": "code",
   "execution_count": null,
   "id": "4ffa0824",
   "metadata": {},
   "outputs": [],
   "source": [
    "fold_change_data"
   ]
  },
  {
   "cell_type": "code",
   "execution_count": null,
   "id": "e2fa0844",
   "metadata": {},
   "outputs": [],
   "source": [
    "missing_genes = Genes-set(fold_change_data.index)\n",
    "fold_change_data = pd.dataFrame(fold_change_data, index=list(fold_change_data.index)+list(missing_genes), columns=fold_change_data.columns)"
   ]
  }
 ],
 "metadata": {
  "kernelspec": {
   "display_name": "Python 3 (ipykernel)",
   "language": "python",
   "name": "python3"
  },
  "language_info": {
   "codemirror_mode": {
    "name": "ipython",
    "version": 3
   },
   "file_extension": ".py",
   "mimetype": "text/x-python",
   "name": "python",
   "nbconvert_exporter": "python",
   "pygments_lexer": "ipython3",
   "version": "3.9.5"
  }
 },
 "nbformat": 4,
 "nbformat_minor": 5
}
