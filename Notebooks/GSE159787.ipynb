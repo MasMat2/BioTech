{
 "cells": [
  {
   "cell_type": "markdown",
   "id": "e5bdb877",
   "metadata": {},
   "source": [
    "Same as GSE159785, but with 8821 genes (raw data)\n",
    "6 infected samples from diferent people - 4 healty samples from 3 diferent people\n",
    "Up to 48 segments were collected within each patient sample"
   ]
  }
 ],
 "metadata": {
  "kernelspec": {
   "display_name": "Python 3 (ipykernel)",
   "language": "python",
   "name": "python3"
  },
  "language_info": {
   "codemirror_mode": {
    "name": "ipython",
    "version": 3
   },
   "file_extension": ".py",
   "mimetype": "text/x-python",
   "name": "python",
   "nbconvert_exporter": "python",
   "pygments_lexer": "ipython3",
   "version": "3.9.5"
  }
 },
 "nbformat": 4,
 "nbformat_minor": 5
}
