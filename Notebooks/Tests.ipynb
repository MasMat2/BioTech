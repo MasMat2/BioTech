{
 "cells": [
  {
   "cell_type": "code",
   "execution_count": 1,
   "id": "c1563ae7",
   "metadata": {},
   "outputs": [],
   "source": [
    "samples = ['MB-C-1', 'CB-C-1', 'MB-C-2', 'MB-C-3', 'MB-C-4', 'CB-C-4', 'MB-C-5', 'CB-C-5', 'MB-C-6', 'CB-C-6', 'MB-C-7', 'CB-C-7', 'MB-C-8', 'CB-C-8', 'MB-C-9', 'CB-C-9', 'MB-C-10', 'CB-C-10', 'MB-SA-1', 'CB-SA-1', 'MB-SA-2', 'CB-SA-2', 'MB-SA-3', 'CB-SA-3', 'MB-SA-4', 'CB-SA-4', 'MB-SA-5', 'CB-SA-5', 'MB-SA-6', 'CB-SA-6', 'MB-SA-7', 'CB-SA-7', 'MB-SA-8', 'CB-SA-8', 'MB-SA-9', 'MB-SA-10', 'MB-SA-11', 'CB-SA-11']"
   ]
  },
  {
   "cell_type": "code",
   "execution_count": 6,
   "id": "4395e165",
   "metadata": {},
   "outputs": [
    {
     "data": {
      "text/plain": [
       "10"
      ]
     },
     "execution_count": 6,
     "metadata": {},
     "output_type": "execute_result"
    }
   ],
   "source": [
    "sum(map(lambda x: 'MB-C'in x, samples))"
   ]
  }
 ],
 "metadata": {
  "kernelspec": {
   "display_name": "Python 3 (ipykernel)",
   "language": "python",
   "name": "python3"
  },
  "language_info": {
   "codemirror_mode": {
    "name": "ipython",
    "version": 3
   },
   "file_extension": ".py",
   "mimetype": "text/x-python",
   "name": "python",
   "nbconvert_exporter": "python",
   "pygments_lexer": "ipython3",
   "version": "3.8.10"
  }
 },
 "nbformat": 4,
 "nbformat_minor": 5
}
