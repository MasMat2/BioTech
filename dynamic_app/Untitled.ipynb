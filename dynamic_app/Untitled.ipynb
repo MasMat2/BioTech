{
 "cells": [
  {
   "cell_type": "code",
   "execution_count": 7,
   "id": "cf04fdd4",
   "metadata": {},
   "outputs": [
    {
     "name": "stderr",
     "output_type": "stream",
     "text": [
      "Loading required package: S4Vectors\n",
      "Loading required package: stats4\n",
      "Loading required package: BiocGenerics\n",
      "\n",
      "Attaching package: ‘BiocGenerics’\n",
      "\n",
      "The following objects are masked from ‘package:stats’:\n",
      "\n",
      "    IQR, mad, sd, var, xtabs\n",
      "\n",
      "The following objects are masked from ‘package:base’:\n",
      "\n",
      "    anyDuplicated, append, as.data.frame, basename, cbind, colnames,\n",
      "    dirname, do.call, duplicated, eval, evalq, Filter, Find, get, grep,\n",
      "    grepl, intersect, is.unsorted, lapply, Map, mapply, match, mget,\n",
      "    order, paste, pmax, pmax.int, pmin, pmin.int, Position, rank,\n",
      "    rbind, Reduce, rownames, sapply, setdiff, sort, table, tapply,\n",
      "    union, unique, unsplit, which.max, which.min\n",
      "\n",
      "\n",
      "Attaching package: ‘S4Vectors’\n",
      "\n",
      "The following objects are masked from ‘package:base’:\n",
      "\n",
      "    expand.grid, I, unname\n",
      "\n",
      "Loading required package: IRanges\n",
      "Loading required package: GenomicRanges\n",
      "Loading required package: GenomeInfoDb\n",
      "Loading required package: SummarizedExperiment\n",
      "Loading required package: MatrixGenerics\n",
      "Loading required package: matrixStats\n",
      "\n",
      "Attaching package: ‘MatrixGenerics’\n",
      "\n",
      "The following objects are masked from ‘package:matrixStats’:\n",
      "\n",
      "    colAlls, colAnyNAs, colAnys, colAvgsPerRowSet, colCollapse,\n",
      "    colCounts, colCummaxs, colCummins, colCumprods, colCumsums,\n",
      "    colDiffs, colIQRDiffs, colIQRs, colLogSumExps, colMadDiffs,\n",
      "    colMads, colMaxs, colMeans2, colMedians, colMins, colOrderStats,\n",
      "    colProds, colQuantiles, colRanges, colRanks, colSdDiffs, colSds,\n",
      "    colSums2, colTabulates, colVarDiffs, colVars, colWeightedMads,\n",
      "    colWeightedMeans, colWeightedMedians, colWeightedSds,\n",
      "    colWeightedVars, rowAlls, rowAnyNAs, rowAnys, rowAvgsPerColSet,\n",
      "    rowCollapse, rowCounts, rowCummaxs, rowCummins, rowCumprods,\n",
      "    rowCumsums, rowDiffs, rowIQRDiffs, rowIQRs, rowLogSumExps,\n",
      "    rowMadDiffs, rowMads, rowMaxs, rowMeans2, rowMedians, rowMins,\n",
      "    rowOrderStats, rowProds, rowQuantiles, rowRanges, rowRanks,\n",
      "    rowSdDiffs, rowSds, rowSums2, rowTabulates, rowVarDiffs, rowVars,\n",
      "    rowWeightedMads, rowWeightedMeans, rowWeightedMedians,\n",
      "    rowWeightedSds, rowWeightedVars\n",
      "\n",
      "Loading required package: Biobase\n",
      "Welcome to Bioconductor\n",
      "\n",
      "    Vignettes contain introductory material; view with\n",
      "    'browseVignettes()'. To cite Bioconductor, see\n",
      "    'citation(\"Biobase\")', and for packages 'citation(\"pkgname\")'.\n",
      "\n",
      "\n",
      "Attaching package: ‘Biobase’\n",
      "\n",
      "The following object is masked from ‘package:MatrixGenerics’:\n",
      "\n",
      "    rowMedians\n",
      "\n",
      "The following objects are masked from ‘package:matrixStats’:\n",
      "\n",
      "    anyMissing, rowMedians\n",
      "\n",
      "── Attaching packages ─────────────────────────────────────── tidyverse 1.3.2 ──\n",
      "✔ ggplot2 3.3.6     ✔ purrr   0.3.4\n",
      "✔ tibble  3.1.8     ✔ dplyr   1.0.9\n",
      "✔ tidyr   1.2.0     ✔ stringr 1.4.0\n",
      "✔ readr   2.1.2     ✔ forcats 0.5.1\n",
      "── Conflicts ────────────────────────────────────────── tidyverse_conflicts() ──\n",
      "✖ dplyr::collapse()   masks IRanges::collapse()\n",
      "✖ dplyr::combine()    masks Biobase::combine(), BiocGenerics::combine()\n",
      "✖ dplyr::count()      masks matrixStats::count()\n",
      "✖ dplyr::desc()       masks IRanges::desc()\n",
      "✖ tidyr::expand()     masks S4Vectors::expand()\n",
      "✖ dplyr::filter()     masks stats::filter()\n",
      "✖ dplyr::first()      masks S4Vectors::first()\n",
      "✖ dplyr::lag()        masks stats::lag()\n",
      "✖ ggplot2::Position() masks BiocGenerics::Position(), base::Position()\n",
      "✖ purrr::reduce()     masks GenomicRanges::reduce(), IRanges::reduce()\n",
      "✖ dplyr::rename()     masks S4Vectors::rename()\n",
      "✖ dplyr::slice()      masks IRanges::slice()\n"
     ]
    },
    {
     "name": "stdout",
     "output_type": "stream",
     "text": [
      "[1] FALSE\n",
      "[1] FALSE\n"
     ]
    },
    {
     "name": "stderr",
     "output_type": "stream",
     "text": [
      "Warning message:\n",
      "In colnames(counts_data) == rownames(colData) :\n",
      "  longer object length is not a multiple of shorter object length\n",
      "Error in DESeqDataSetFromMatrix(countData = counts_data, colData = colData,  : \n",
      "  ncol(countData) == nrow(colData) is not TRUE\n",
      "Calls: DESeqDataSetFromMatrix -> stopifnot\n",
      "Execution halted\n"
     ]
    },
    {
     "data": {
      "text/plain": [
       "1"
      ]
     },
     "execution_count": 7,
     "metadata": {},
     "output_type": "execute_result"
    }
   ],
   "source": [
    "import subprocess\n",
    "subprocess.call(\"/usr/bin/Rscript --vanilla /mnt/e/Collage/BioTech/Analisis_Genes/dynamic_app/dseq/rscript.R\", shell=True)"
   ]
  },
  {
   "cell_type": "code",
   "execution_count": 16,
   "id": "b2b0be79",
   "metadata": {
    "scrolled": true
   },
   "outputs": [
    {
     "name": "stdout",
     "output_type": "stream",
     "text": [
      "counts_data.csv  rscript.R  sample_info.csv\r\n"
     ]
    }
   ],
   "source": [
    "!ls dseq"
   ]
  },
  {
   "cell_type": "code",
   "execution_count": 18,
   "id": "d3319a98",
   "metadata": {},
   "outputs": [],
   "source": [
    "rnorm = stats.rnorm\n",
    "dataf_rnorm = robjects.DataFrame({'value': rnorm(300, mean=0) + rnorm(100, mean=3),\n",
    "                                  'other_value': rnorm(300, mean=0) + rnorm(100, mean=3),\n",
    "                                  'mean': IntVector([0, ]*300 + [3, ] * 100)})"
   ]
  },
  {
   "cell_type": "code",
   "execution_count": 19,
   "id": "dfdbd451",
   "metadata": {},
   "outputs": [
    {
     "name": "stdout",
     "output_type": "stream",
     "text": [
      "None\n"
     ]
    }
   ],
   "source": [
    "gp = ggplot2.ggplot(mtcars)\n",
    "\n",
    "pp = (gp +\n",
    "      ggplot2.aes_string(x='wt', y='mpg') +\n",
    "      ggplot2.geom_point())\n",
    "\n",
    "print(pp.plot())"
   ]
  },
  {
   "cell_type": "code",
   "execution_count": 12,
   "id": "83b26ba2",
   "metadata": {},
   "outputs": [],
   "source": [
    "gp = ggplot2.ggplot(mtcars)\n",
    "\n",
    "pp = (gp +\n",
    "      ggplot2.aes_string(x='wt', y='mpg', col='factor(cyl)') +\n",
    "      ggplot2.geom_point())\n",
    "\n",
    "pp.plot()"
   ]
  },
  {
   "cell_type": "code",
   "execution_count": null,
   "id": "be5f4755",
   "metadata": {},
   "outputs": [],
   "source": [
    "with open('Tabla de metadatos.csv', 'r') as csvfile:\n",
    "    all_ = list(csv.DictReader(csvfile))\n",
    "    \n",
    "d = dict()\n",
    "for gse, gsms in itertools.groupby(\n",
    "        all_, \n",
    "        key=lambda r: (r['GSE'])):\n",
    "    d[gse] = []\n",
    "    for gsm in gsms:\n",
    "        gsm.pop('GSE')\n",
    "        d[gse].append(gsm)"
   ]
  }
 ],
 "metadata": {
  "kernelspec": {
   "display_name": "Python 3 (ipykernel)",
   "language": "python",
   "name": "python3"
  },
  "language_info": {
   "codemirror_mode": {
    "name": "ipython",
    "version": 3
   },
   "file_extension": ".py",
   "mimetype": "text/x-python",
   "name": "python",
   "nbconvert_exporter": "python",
   "pygments_lexer": "ipython3",
   "version": "3.8.10"
  }
 },
 "nbformat": 4,
 "nbformat_minor": 5
}
