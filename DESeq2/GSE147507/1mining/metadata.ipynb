{
 "cells": [
  {
   "cell_type": "code",
   "execution_count": 1,
   "id": "e91a8024",
   "metadata": {},
   "outputs": [],
   "source": [
    "import pandas as pd\n",
    "import re\n",
    "sources_path = '../0sources'\n",
    "clean_data_path = '../2clean_data'"
   ]
  },
  {
   "cell_type": "code",
   "execution_count": 3,
   "id": "dfe2cad2",
   "metadata": {},
   "outputs": [],
   "source": [
    "with open(f\"{sources_path}/GSE147507_family.soft\", \"r\") as f:\n",
    "    samples = f.read().split(\"^SAMPLE = \")"
   ]
  },
  {
   "cell_type": "code",
   "execution_count": 5,
   "id": "bdb49319",
   "metadata": {},
   "outputs": [],
   "source": [
    "samples = samples[1:]"
   ]
  },
  {
   "cell_type": "code",
   "execution_count": 7,
   "id": "6b18fcc9",
   "metadata": {},
   "outputs": [],
   "source": [
    "from collections import defaultdict\n",
    "sample_meta = defaultdict(lambda x: [])"
   ]
  },
  {
   "cell_type": "code",
   "execution_count": 8,
   "id": "92c4e512",
   "metadata": {},
   "outputs": [],
   "source": [
    "for sample in samples:\n",
    "    lines = sample.split(\"\\n\")\n",
    "    sample_meta[lines[0]] = lines[1:]"
   ]
  },
  {
   "cell_type": "code",
   "execution_count": 9,
   "id": "a918b956",
   "metadata": {},
   "outputs": [],
   "source": [
    "for key, vals in sample_meta.items():\n",
    "    new_val = []\n",
    "    for val in vals:\n",
    "        if \"!Sample_title\" in val or \"!Sample_characteristics_ch1 = \" in val:\n",
    "            new_val.append(val)\n",
    "    sample_meta[key] = new_val"
   ]
  },
  {
   "cell_type": "code",
   "execution_count": 10,
   "id": "2be35c32",
   "metadata": {},
   "outputs": [
    {
     "data": {
      "text/plain": [
       "dict_keys(['GSM4432378', 'GSM4432379', 'GSM4432380', 'GSM4432381', 'GSM4432382', 'GSM4432383', 'GSM4432384', 'GSM4432385', 'GSM4432386', 'GSM4432387', 'GSM4432388', 'GSM4432389', 'GSM4432390', 'GSM4432391', 'GSM4432392', 'GSM4432393', 'GSM4432394', 'GSM4432395', 'GSM4432396', 'GSM4432397', 'GSM4462336', 'GSM4462337', 'GSM4462338', 'GSM4462339', 'GSM4462340', 'GSM4462341', 'GSM4462342', 'GSM4462343', 'GSM4462344', 'GSM4462345', 'GSM4462346', 'GSM4462347', 'GSM4462348', 'GSM4462349', 'GSM4462350', 'GSM4462351', 'GSM4462352', 'GSM4462353', 'GSM4462354', 'GSM4462355', 'GSM4462356', 'GSM4462357', 'GSM4462358', 'GSM4462359', 'GSM4462360', 'GSM4462361', 'GSM4462362', 'GSM4462363', 'GSM4462364', 'GSM4462365', 'GSM4462366', 'GSM4462367', 'GSM4462368', 'GSM4462369', 'GSM4462370', 'GSM4462371', 'GSM4462372', 'GSM4462373', 'GSM4462374', 'GSM4462375', 'GSM4462376', 'GSM4462377', 'GSM4462378', 'GSM4462379', 'GSM4462380', 'GSM4462381', 'GSM4462382', 'GSM4462383', 'GSM4462384', 'GSM4462385', 'GSM4462386', 'GSM4462387', 'GSM4462388', 'GSM4462389', 'GSM4462390', 'GSM4462391', 'GSM4462392', 'GSM4462393', 'GSM4462394', 'GSM4462395', 'GSM4462396', 'GSM4462397', 'GSM4462398', 'GSM4462399', 'GSM4462400', 'GSM4462401', 'GSM4462402', 'GSM4462403', 'GSM4462404', 'GSM4462405', 'GSM4462406', 'GSM4462407', 'GSM4462408', 'GSM4462409', 'GSM4462410', 'GSM4462411', 'GSM4462412', 'GSM4462413', 'GSM4462414', 'GSM4462415', 'GSM4462416', 'GSM4486157', 'GSM4486158', 'GSM4486159', 'GSM4486160', 'GSM4486161', 'GSM4486162', 'GSM4486163', 'GSM4486164', 'GSM4486165'])"
      ]
     },
     "execution_count": 10,
     "metadata": {},
     "output_type": "execute_result"
    }
   ],
   "source": [
    "sample_meta.keys()"
   ]
  },
  {
   "cell_type": "code",
   "execution_count": 22,
   "id": "6ca89ff4",
   "metadata": {},
   "outputs": [
    {
     "data": {
      "text/plain": [
       "['Series1_NHBE_Mock_1',\n",
       " 'NHBE',\n",
       " 'primary human bronchial epithelial cells',\n",
       " 'Mock treatment',\n",
       " '24hrs after treatment']"
      ]
     },
     "execution_count": 22,
     "metadata": {},
     "output_type": "execute_result"
    }
   ],
   "source": [
    "sample_meta['GSM4432378']"
   ]
  },
  {
   "cell_type": "code",
   "execution_count": 19,
   "id": "ff724d87",
   "metadata": {},
   "outputs": [
    {
     "data": {
      "text/plain": [
       "['', 'cell line', 'cell type', 'treatment', 'time point']"
      ]
     },
     "execution_count": 19,
     "metadata": {},
     "output_type": "execute_result"
    }
   ],
   "source": [
    "sample_meta['GSM4432378']\n",
    "columns = [\"\"] + list(map(lambda x: x.split(\":\")[0], sample_meta['GSM4432378'][1:]))\n",
    "columns"
   ]
  },
  {
   "cell_type": "code",
   "execution_count": 13,
   "id": "e8ea6690",
   "metadata": {},
   "outputs": [],
   "source": [
    "for key, vals in sample_meta.items():\n",
    "    new_val = []\n",
    "    for val in vals:\n",
    "        new_val.append(re.split(r'!.*= ', val)[-1])\n",
    "    sample_meta[key] = new_val"
   ]
  },
  {
   "cell_type": "code",
   "execution_count": 21,
   "id": "371398eb",
   "metadata": {},
   "outputs": [],
   "source": [
    "for key, vals in sample_meta.items():\n",
    "    new_val = []\n",
    "    for val in vals:\n",
    "        new_val.append(re.split(r'.*: ', val)[-1])\n",
    "    sample_meta[key] = new_val"
   ]
  },
  {
   "cell_type": "code",
   "execution_count": 25,
   "id": "228b5659",
   "metadata": {},
   "outputs": [],
   "source": [
    "series = ['1', '2', '5', '6', '7', '15', '16']"
   ]
  },
  {
   "cell_type": "code",
   "execution_count": 24,
   "id": "ce7206c6",
   "metadata": {},
   "outputs": [
    {
     "name": "stdout",
     "output_type": "stream",
     "text": [
      "Series1_NHBE_Mock_1\n",
      "Series1_NHBE_Mock_2\n",
      "Series1_NHBE_Mock_3\n",
      "Series1_NHBE_SARS-CoV-2_1\n",
      "Series1_NHBE_SARS-CoV-2_2\n",
      "Series1_NHBE_SARS-CoV-2_3\n",
      "Series2_A549_Mock_1\n",
      "Series2_A549_Mock_2\n",
      "Series2_A549_Mock_3\n",
      "Series2_A549_SARS-CoV-2_1\n",
      "Series2_A549_SARS-CoV-2_2\n",
      "Series2_A549_SARS-CoV-2_3\n",
      "Series3_A549_Mock_1\n",
      "Series3_A549_Mock_2\n",
      "Series3_A549_RSV_1\n",
      "Series3_A549_RSV_2\n",
      "Series4_A549_Mock_1\n",
      "Series4_A549_Mock_2\n",
      "Series4_A549_IAV_1\n",
      "Series4_A549_IAV_2\n",
      "Series5_A549_Mock_1\n",
      "Series5_A549_Mock_2\n",
      "Series5_A549_Mock_3\n",
      "Series5_A549_SARS-CoV-2_1\n",
      "Series5_A549_SARS-CoV-2_2\n",
      "Series5_A549_SARS-CoV-2_3\n",
      "Series6_A549-ACE2_Mock_1\n",
      "Series6_A549-ACE2_Mock_2\n",
      "Series6_A549-ACE2_Mock_3\n",
      "Series6_A549-ACE2_SARS-CoV-2_1\n",
      "Series6_A549-ACE2_SARS-CoV-2_2\n",
      "Series6_A549-ACE2_SARS-CoV-2_3\n",
      "Series7_Calu3_Mock_1\n",
      "Series7_Calu3_Mock_2\n",
      "Series7_Calu3_Mock_3\n",
      "Series7_Calu3_SARS-CoV-2_1\n",
      "Series7_Calu3_SARS-CoV-2_2\n",
      "Series7_Calu3_SARS-CoV-2_3\n",
      "Series8_A549_Mock_1\n",
      "Series8_A549_Mock_2\n",
      "Series8_A549_Mock_3\n",
      "Series8_A549_RSV_1\n",
      "Series8_A549_RSV_2\n",
      "Series8_A549_RSV_3\n",
      "Series8_A549_HPIV3_1\n",
      "Series8_A549_HPIV3_2\n",
      "Series8_A549_HPIV3_3\n",
      "Series9_NHBE_Mock_1\n",
      "Series9_NHBE_Mock_2\n",
      "Series9_NHBE_Mock_3\n",
      "Series9_NHBE_Mock_4\n",
      "Series9_NHBE_IAV_1\n",
      "Series9_NHBE_IAV_2\n",
      "Series9_NHBE_IAV_3\n",
      "Series9_NHBE_IAV_4\n",
      "Series9_NHBE_IAVdNS1_1\n",
      "Series9_NHBE_IAVdNS1_2\n",
      "Series9_NHBE_IAVdNS1_3\n",
      "Series9_NHBE_IAVdNS1_4\n",
      "Series9_NHBE_IFNB_4h_1\n",
      "Series9_NHBE_IFNB_4h_2\n",
      "Series9_NHBE_IFNB_6h_1\n",
      "Series9_NHBE_IFNB_6h_2\n",
      "Series9_NHBE_IFNB_12h_1\n",
      "Series9_NHBE_IFNB_12h_2\n",
      "Series10_FerretNW_Ctl_d1_1\n",
      "Series10_FerretNW_Ctl_d1_2\n",
      "Series10_FerretNW_SARS-CoV-2_d1_1\n",
      "Series10_FerretNW_SARS-CoV-2_d1_2\n",
      "Series11_FerretNW_Ctl_d3_1\n",
      "Series11_FerretNW_Ctl_d3_2\n",
      "Series11_FerretNW_SARS-CoV-2_d3_1\n",
      "Series11_FerretNW_SARS-CoV-2_d3_2\n",
      "Series12_FerretNW_Ctl_d7_1\n",
      "Series12_FerretNW_Ctl_d7_2\n",
      "Series12_FerretNW_SARS-CoV-2_d7_1\n",
      "Series12_FerretNW_SARS-CoV-2_d7_2\n",
      "Series12_FerretNW_IAV_d7_1\n",
      "Series12_FerretNW_IAV_d7_2\n",
      "Series13_FerretNW_Ctl_d14_1\n",
      "Series13_FerretNW_Ctl_d14_2\n",
      "Series13_FerretNW_SARS-CoV-2_d14_1\n",
      "Series13_FerretNW_SARS-CoV-2_d14_2\n",
      "Series14_FerretTrachea_Ctl_d3_1\n",
      "Series14_FerretTrachea_Ctl_d3_2\n",
      "Series14_FerretTrachea_Ctl_d3_3\n",
      "Series14_FerretTrachea_Ctl_d3_4\n",
      "Series14_FerretTrachea_SARS-CoV-2_d3_1\n",
      "Series14_FerretTrachea_SARS-CoV-2_d3_2\n",
      "Series14_FerretTrachea_SARS-CoV-2_d3_3\n",
      "Series14_FerretTrachea_SARS-CoV-2_d3_4\n",
      "Series14_FerretTrachea_IAV_d3_1\n",
      "Series14_FerretTrachea_IAV_d3_2\n",
      "Series14_FerretTrachea_IAV_d3_3\n",
      "Series14_FerretTrachea_IAV_d3_4\n",
      "Series14_FerretTrachea_IAV_d3_5\n",
      "Series14_FerretTrachea_IAV_d3_6\n",
      "Series15_HealthyLungBiopsy_1\n",
      "Series15_HealthyLungBiopsy_2\n",
      "Series15_COVID19Lung_1\n",
      "Series15_COVID19Lung_2\n",
      "Series16_A549-ACE2_Mock_1\n",
      "Series16_A549-ACE2_Mock_2\n",
      "Series16_A549-ACE2_Mock_3\n",
      "Series16_A549-ACE2_SARS-CoV-2_1\n",
      "Series16_A549-ACE2_SARS-CoV-2_2\n",
      "Series16_A549-ACE2_SARS-CoV-2_3\n",
      "Series16_A549-ACE2_SARS-CoV-2_Rux_1\n",
      "Series16_A549-ACE2_SARS-CoV-2_Rux_2\n",
      "Series16_A549-ACE2_SARS-CoV-2_Rux_3\n"
     ]
    }
   ],
   "source": [
    "for key, vals in sample_meta.items():\n",
    "    print(sample_meta[key][0])"
   ]
  },
  {
   "cell_type": "code",
   "execution_count": 36,
   "id": "26e291ae",
   "metadata": {},
   "outputs": [
    {
     "ename": "SyntaxError",
     "evalue": "invalid syntax (186602713.py, line 4)",
     "output_type": "error",
     "traceback": [
      "\u001b[0;36m  Input \u001b[0;32mIn [36]\u001b[0;36m\u001b[0m\n\u001b[0;31m    samples[serie] = list(map(lambda x: x if f'{serie}_' in x[0] else pass, sample_meta.values()))\u001b[0m\n\u001b[0m                                                                      ^\u001b[0m\n\u001b[0;31mSyntaxError\u001b[0m\u001b[0;31m:\u001b[0m invalid syntax\n"
     ]
    }
   ],
   "source": [
    "samples = dict()\n",
    "for _id in series:\n",
    "    serie = f'Series{_id}'\n",
    "    samples[serie] = list(map(lambda x: x if f'{serie}_' in x[0], sample_meta.values()))\n",
    "    "
   ]
  },
  {
   "cell_type": "code",
   "execution_count": 35,
   "id": "8c0082c7",
   "metadata": {},
   "outputs": [
    {
     "data": {
      "text/plain": [
       "[['Series1_NHBE_Mock_1',\n",
       "  'NHBE',\n",
       "  'primary human bronchial epithelial cells',\n",
       "  'Mock treatment',\n",
       "  '24hrs after treatment'],\n",
       " ['Series1_NHBE_Mock_2',\n",
       "  'NHBE',\n",
       "  'primary human bronchial epithelial cells',\n",
       "  'Mock treatment',\n",
       "  '24hrs after treatment'],\n",
       " ['Series1_NHBE_Mock_3',\n",
       "  'NHBE',\n",
       "  'primary human bronchial epithelial cells',\n",
       "  'Mock treatment',\n",
       "  '24hrs after treatment'],\n",
       " ['Series1_NHBE_SARS-CoV-2_1',\n",
       "  'NHBE',\n",
       "  'primary human bronchial epithelial cells',\n",
       "  'SARS-CoV-2 infected (MOI 2)',\n",
       "  'USA-WA1/2020',\n",
       "  '24hrs after treatment'],\n",
       " ['Series1_NHBE_SARS-CoV-2_2',\n",
       "  'NHBE',\n",
       "  'primary human bronchial epithelial cells',\n",
       "  'SARS-CoV-2 infected (MOI 2)',\n",
       "  'USA-WA1/2020',\n",
       "  '24hrs after treatment'],\n",
       " ['Series1_NHBE_SARS-CoV-2_3',\n",
       "  'NHBE',\n",
       "  'primary human bronchial epithelial cells',\n",
       "  'SARS-CoV-2 infected (MOI 2)',\n",
       "  'USA-WA1/2020',\n",
       "  '24hrs after treatment'],\n",
       " None,\n",
       " None,\n",
       " None,\n",
       " None,\n",
       " None,\n",
       " None,\n",
       " None,\n",
       " None,\n",
       " None,\n",
       " None,\n",
       " None,\n",
       " None,\n",
       " None,\n",
       " None,\n",
       " None,\n",
       " None,\n",
       " None,\n",
       " None,\n",
       " None,\n",
       " None,\n",
       " None,\n",
       " None,\n",
       " None,\n",
       " None,\n",
       " None,\n",
       " None,\n",
       " None,\n",
       " None,\n",
       " None,\n",
       " None,\n",
       " None,\n",
       " None,\n",
       " None,\n",
       " None,\n",
       " None,\n",
       " None,\n",
       " None,\n",
       " None,\n",
       " None,\n",
       " None,\n",
       " None,\n",
       " None,\n",
       " None,\n",
       " None,\n",
       " None,\n",
       " None,\n",
       " None,\n",
       " None,\n",
       " None,\n",
       " None,\n",
       " None,\n",
       " None,\n",
       " None,\n",
       " None,\n",
       " None,\n",
       " None,\n",
       " None,\n",
       " None,\n",
       " None,\n",
       " None,\n",
       " None,\n",
       " None,\n",
       " None,\n",
       " None,\n",
       " None,\n",
       " None,\n",
       " None,\n",
       " None,\n",
       " None,\n",
       " None,\n",
       " None,\n",
       " None,\n",
       " None,\n",
       " None,\n",
       " None,\n",
       " None,\n",
       " None,\n",
       " None,\n",
       " None,\n",
       " None,\n",
       " None,\n",
       " None,\n",
       " None,\n",
       " None,\n",
       " None,\n",
       " None,\n",
       " None,\n",
       " None,\n",
       " None,\n",
       " None,\n",
       " None,\n",
       " None,\n",
       " None,\n",
       " None,\n",
       " None,\n",
       " None,\n",
       " None,\n",
       " None,\n",
       " None,\n",
       " None,\n",
       " None,\n",
       " None,\n",
       " None,\n",
       " None]"
      ]
     },
     "execution_count": 35,
     "metadata": {},
     "output_type": "execute_result"
    }
   ],
   "source": [
    "samples['Series1']"
   ]
  }
 ],
 "metadata": {
  "kernelspec": {
   "display_name": "Python 3 (ipykernel)",
   "language": "python",
   "name": "python3"
  },
  "language_info": {
   "codemirror_mode": {
    "name": "ipython",
    "version": 3
   },
   "file_extension": ".py",
   "mimetype": "text/x-python",
   "name": "python",
   "nbconvert_exporter": "python",
   "pygments_lexer": "ipython3",
   "version": "3.8.10"
  }
 },
 "nbformat": 4,
 "nbformat_minor": 5
}
