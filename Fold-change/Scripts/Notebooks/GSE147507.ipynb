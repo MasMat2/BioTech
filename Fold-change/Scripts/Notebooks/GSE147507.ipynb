{
 "cells": [
  {
   "cell_type": "code",
   "execution_count": 1,
   "id": "4bc327f1",
   "metadata": {},
   "outputs": [],
   "source": [
    "import pandas as pd"
   ]
  },
  {
   "cell_type": "code",
   "execution_count": 5,
   "id": "5ea204d0",
   "metadata": {},
   "outputs": [
    {
     "name": "stdout",
     "output_type": "stream",
     "text": [
      "New  Old\r\n"
     ]
    }
   ],
   "source": []
  },
  {
   "cell_type": "code",
   "execution_count": 13,
   "id": "bb5c471b",
   "metadata": {},
   "outputs": [
    {
     "data": {
      "text/plain": [
       "Index(['Series1_NHBE_Mock_1', 'Series1_NHBE_Mock_2', 'Series1_NHBE_Mock_3',\n",
       "       'Series1_NHBE_SARS-CoV-2_1', 'Series1_NHBE_SARS-CoV-2_2',\n",
       "       'Series1_NHBE_SARS-CoV-2_3', 'Series2_A549_Mock_1',\n",
       "       'Series2_A549_Mock_2', 'Series2_A549_Mock_3',\n",
       "       'Series2_A549_SARS-CoV-2_1', 'Series2_A549_SARS-CoV-2_2',\n",
       "       'Series2_A549_SARS-CoV-2_3', 'Series3_A549_Mock_1',\n",
       "       'Series3_A549_Mock_2', 'Series3_A549_RSV_1', 'Series3_A549_RSV_2',\n",
       "       'Series4_A549_Mock_1', 'Series4_A549_Mock_2', 'Series4_A549_IAV_1',\n",
       "       'Series4_A549_IAV_2', 'Series5_A549_Mock_1', 'Series5_A549_Mock_2',\n",
       "       'Series5_A549_Mock_3', 'Series5_A549_SARS-CoV-2_1',\n",
       "       'Series5_A549_SARS-CoV-2_2', 'Series5_A549_SARS-CoV-2_3',\n",
       "       'Series6_A549-ACE2_Mock_1', 'Series6_A549-ACE2_Mock_2',\n",
       "       'Series6_A549-ACE2_Mock_3', 'Series6_A549-ACE2_SARS-CoV-2_1',\n",
       "       'Series6_A549-ACE2_SARS-CoV-2_2', 'Series6_A549-ACE2_SARS-CoV-2_3',\n",
       "       'Series7_Calu3_Mock_1', 'Series7_Calu3_Mock_2', 'Series7_Calu3_Mock_3',\n",
       "       'Series7_Calu3_SARS-CoV-2_1', 'Series7_Calu3_SARS-CoV-2_2',\n",
       "       'Series7_Calu3_SARS-CoV-2_3', 'Series8_A549_Mock_1',\n",
       "       'Series8_A549_Mock_2', 'Series8_A549_Mock_3', 'Series8_A549_RSV_1',\n",
       "       'Series8_A549_RSV_2', 'Series8_A549_RSV_3', 'Series8_A549_HPIV3_3',\n",
       "       'Series8_A549_HPIV3_2', 'Series8_A549_HPIV3_1', 'Series9_NHBE_Mock_1',\n",
       "       'Series9_NHBE_Mock_2', 'Series9_NHBE_Mock_3', 'Series9_NHBE_Mock_4',\n",
       "       'Series9_NHBE_IAV_1', 'Series9_NHBE_IAV_2', 'Series9_NHBE_IAV_3',\n",
       "       'Series9_NHBE_IAV_4', 'Series9_NHBE_IAVdNS1_1',\n",
       "       'Series9_NHBE_IAVdNS1_2', 'Series9_NHBE_IAVdNS1_3',\n",
       "       'Series9_NHBE_IAVdNS1_4', 'Series9_NHBE_IFNB_4h_1',\n",
       "       'Series9_NHBE_IFNB_4h_2', 'Series9_NHBE_IFNB_6h_1',\n",
       "       'Series9_NHBE_IFNB_6h_2', 'Series9_NHBE_IFNB_12h_1',\n",
       "       'Series9_NHBE_IFNB_12h_2', 'Series15_HealthyLungBiopsy_2',\n",
       "       'Series15_HealthyLungBiopsy_1', 'Series15_COVID19Lung_2',\n",
       "       'Series15_COVID19Lung_1', 'Series16_A549-ACE2_Mock_1',\n",
       "       'Series16_A549-ACE2_Mock_2', 'Series16_A549-ACE2_Mock_3',\n",
       "       'Series16_A549-ACE2_SARS-CoV-2_1', 'Series16_A549-ACE2_SARS-CoV-2_2',\n",
       "       'Series16_A549-ACE2_SARS-CoV-2_3',\n",
       "       'Series16_A549-ACE2_SARS-CoV-2_Rux_1',\n",
       "       'Series16_A549-ACE2_SARS-CoV-2_Rux_2',\n",
       "       'Series16_A549-ACE2_SARS-CoV-2_Rux_3'],\n",
       "      dtype='object')"
      ]
     },
     "execution_count": 13,
     "metadata": {},
     "output_type": "execute_result"
    }
   ],
   "source": [
    "df = pd.read_csv('../.data_sources/Old/GSE147507/GSE147507_RawReadCounts_Human.tsv', sep='\\t')\n",
    "df.index = list(df['Unnamed: 0'])\n",
    "df.drop(columns=['Unnamed: 0'], inplace=True)\n",
    "df.columns"
   ]
  },
  {
   "cell_type": "code",
   "execution_count": null,
   "id": "66126d4b",
   "metadata": {},
   "outputs": [],
   "source": []
  }
 ],
 "metadata": {
  "kernelspec": {
   "display_name": "Python 3 (ipykernel)",
   "language": "python",
   "name": "python3"
  },
  "language_info": {
   "codemirror_mode": {
    "name": "ipython",
    "version": 3
   },
   "file_extension": ".py",
   "mimetype": "text/x-python",
   "name": "python",
   "nbconvert_exporter": "python",
   "pygments_lexer": "ipython3",
   "version": "3.8.10"
  }
 },
 "nbformat": 4,
 "nbformat_minor": 5
}
