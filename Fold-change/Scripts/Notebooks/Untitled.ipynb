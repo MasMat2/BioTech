{
 "cells": [
  {
   "cell_type": "code",
   "execution_count": 2,
   "id": "5775abb8",
   "metadata": {},
   "outputs": [],
   "source": [
    "import pandas as pd"
   ]
  },
  {
   "cell_type": "code",
   "execution_count": null,
   "id": "ecec5af3",
   "metadata": {},
   "outputs": [],
   "source": [
    "datas_name = \"GSE155974\"\n",
    "folder = f\"../data_sources/New/{datas_name}/\"\n",
    "data = pd.DataFrame()\n",
    "for folder_name in os.listdir(folder):\n",
    "    folder_path = f'{folder}/{folder_name}'\n",
    "    fn = f\"{folder_path}/{os.listdir(folder_path)[0]}\"\n",
    "    new_data = pd.read_csv(fn, sep=\"\\t\")\n",
    "    \n",
    "    if data.empty:\n",
    "            data.index = new_data[\"gene_id\"]\n",
    "    \n",
    "    match = re.search(r\"((24|48)h)_(replicate(1|2))\", folder_name)\n",
    "    if match:\n",
    "        col_name = f\"{match.group(3)} {match.group(1)}\"\n",
    "    else:\n",
    "        col_name = \"mock\"\n",
    "    data[col_name] = list(new_data[new_data.columns[1]])\n",
    "        \n",
    "data"
   ]
  }
 ],
 "metadata": {
  "kernelspec": {
   "display_name": "Python 3 (ipykernel)",
   "language": "python",
   "name": "python3"
  },
  "language_info": {
   "codemirror_mode": {
    "name": "ipython",
    "version": 3
   },
   "file_extension": ".py",
   "mimetype": "text/x-python",
   "name": "python",
   "nbconvert_exporter": "python",
   "pygments_lexer": "ipython3",
   "version": "3.8.10"
  }
 },
 "nbformat": 4,
 "nbformat_minor": 5
}
